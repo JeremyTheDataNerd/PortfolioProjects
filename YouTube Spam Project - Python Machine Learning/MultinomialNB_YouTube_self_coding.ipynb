{
 "cells": [
  {
   "cell_type": "markdown",
   "id": "8ebd4364",
   "metadata": {},
   "source": [
    "# Multinomial Naïve Bayes Classifier - the YouTube Dataset"
   ]
  },
  {
   "cell_type": "markdown",
   "id": "053831be",
   "metadata": {},
   "source": [
    "### Introducing the database"
   ]
  },
  {
   "cell_type": "markdown",
   "id": "329b3cb7",
   "metadata": {},
   "source": [
    "The database for this example is taken from https://archive.ics.uci.edu/ml/machine-learning-databases/00380/ "
   ]
  },
  {
   "cell_type": "markdown",
   "id": "e299f9e4",
   "metadata": {},
   "source": [
    "### Importing the necessary libraries"
   ]
  },
  {
   "cell_type": "code",
   "execution_count": 51,
   "id": "7ca2a0dc",
   "metadata": {},
   "outputs": [],
   "source": [
    "import matplotlib.pyplot as plt\n",
    "import seaborn as sns\n",
    "import pandas as pd\n",
    "import glob\n",
    "import numpy as np\n",
    "\n",
    "from sklearn.feature_extraction.text import CountVectorizer\n",
    "from sklearn.model_selection import train_test_split\n",
    "from sklearn.naive_bayes import MultinomialNB\n",
    "from sklearn.metrics import ConfusionMatrixDisplay, classification_report"
   ]
  },
  {
   "cell_type": "markdown",
   "id": "ec59c4c3",
   "metadata": {},
   "source": [
    "### Reading the database"
   ]
  },
  {
   "cell_type": "code",
   "execution_count": 7,
   "id": "f498b02f",
   "metadata": {},
   "outputs": [
    {
     "data": {
      "text/plain": [
       "['youtube-dataset/Youtube03.csv',\n",
       " 'youtube-dataset/Youtube02.csv',\n",
       " 'youtube-dataset/Youtube01.csv',\n",
       " 'youtube-dataset/Youtube05.csv',\n",
       " 'youtube-dataset/Youtube04.csv']"
      ]
     },
     "execution_count": 7,
     "metadata": {},
     "output_type": "execute_result"
    }
   ],
   "source": [
    "# Use glob package to return all file paths that match a specific pattern.\n",
    "# /*.csv --> include all CSV files\n",
    "files = glob.glob('youtube-dataset//*.csv')\n",
    "files"
   ]
  },
  {
   "cell_type": "code",
   "execution_count": 14,
   "id": "ff0d4f00",
   "metadata": {},
   "outputs": [],
   "source": [
    "# Create a for loop to read all the datasets \n",
    "# Remove useless column\n",
    "all_df = []\n",
    "\n",
    "for i in files:\n",
    "    all_df.append(pd.read_csv(i).drop(['COMMENT_ID', 'AUTHOR', 'DATE'], axis= 1))"
   ]
  },
  {
   "cell_type": "code",
   "execution_count": 15,
   "id": "cf721dc9",
   "metadata": {},
   "outputs": [
    {
     "data": {
      "text/html": [
       "<div>\n",
       "<style scoped>\n",
       "    .dataframe tbody tr th:only-of-type {\n",
       "        vertical-align: middle;\n",
       "    }\n",
       "\n",
       "    .dataframe tbody tr th {\n",
       "        vertical-align: top;\n",
       "    }\n",
       "\n",
       "    .dataframe thead th {\n",
       "        text-align: right;\n",
       "    }\n",
       "</style>\n",
       "<table border=\"1\" class=\"dataframe\">\n",
       "  <thead>\n",
       "    <tr style=\"text-align: right;\">\n",
       "      <th></th>\n",
       "      <th>CONTENT</th>\n",
       "      <th>CLASS</th>\n",
       "    </tr>\n",
       "  </thead>\n",
       "  <tbody>\n",
       "    <tr>\n",
       "      <th>0</th>\n",
       "      <td>&lt;a href=\"http://www.youtube.com/watch?v=KQ6zr6...</td>\n",
       "      <td>0</td>\n",
       "    </tr>\n",
       "    <tr>\n",
       "      <th>1</th>\n",
       "      <td>wierd but funny﻿</td>\n",
       "      <td>0</td>\n",
       "    </tr>\n",
       "    <tr>\n",
       "      <th>2</th>\n",
       "      <td>Hey guys, I&amp;#39;m a human.&lt;br /&gt;&lt;br /&gt;&lt;br /&gt;Bu...</td>\n",
       "      <td>1</td>\n",
       "    </tr>\n",
       "    <tr>\n",
       "      <th>3</th>\n",
       "      <td>Party Rock....lol...who wants to shuffle!!!﻿</td>\n",
       "      <td>0</td>\n",
       "    </tr>\n",
       "    <tr>\n",
       "      <th>4</th>\n",
       "      <td>Party rock﻿</td>\n",
       "      <td>0</td>\n",
       "    </tr>\n",
       "    <tr>\n",
       "      <th>...</th>\n",
       "      <td>...</td>\n",
       "      <td>...</td>\n",
       "    </tr>\n",
       "    <tr>\n",
       "      <th>433</th>\n",
       "      <td>Like this comment for no reason﻿</td>\n",
       "      <td>1</td>\n",
       "    </tr>\n",
       "    <tr>\n",
       "      <th>434</th>\n",
       "      <td>love this song﻿</td>\n",
       "      <td>0</td>\n",
       "    </tr>\n",
       "    <tr>\n",
       "      <th>435</th>\n",
       "      <td>this song is awesome. these guys are the best....</td>\n",
       "      <td>1</td>\n",
       "    </tr>\n",
       "    <tr>\n",
       "      <th>436</th>\n",
       "      <td>HOW MANY THUMBS UP FOR LOUIS SAVING THE DAY!?!?﻿</td>\n",
       "      <td>1</td>\n",
       "    </tr>\n",
       "    <tr>\n",
       "      <th>437</th>\n",
       "      <td>NICE :3﻿</td>\n",
       "      <td>0</td>\n",
       "    </tr>\n",
       "  </tbody>\n",
       "</table>\n",
       "<p>438 rows × 2 columns</p>\n",
       "</div>"
      ],
      "text/plain": [
       "                                               CONTENT  CLASS\n",
       "0    <a href=\"http://www.youtube.com/watch?v=KQ6zr6...      0\n",
       "1                                     wierd but funny﻿      0\n",
       "2    Hey guys, I&#39;m a human.<br /><br /><br />Bu...      1\n",
       "3         Party Rock....lol...who wants to shuffle!!!﻿      0\n",
       "4                                          Party rock﻿      0\n",
       "..                                                 ...    ...\n",
       "433                   Like this comment for no reason﻿      1\n",
       "434                                    love this song﻿      0\n",
       "435  this song is awesome. these guys are the best....      1\n",
       "436   HOW MANY THUMBS UP FOR LOUIS SAVING THE DAY!?!?﻿      1\n",
       "437                                           NICE :3﻿      0\n",
       "\n",
       "[438 rows x 2 columns]"
      ]
     },
     "execution_count": 15,
     "metadata": {},
     "output_type": "execute_result"
    }
   ],
   "source": [
    "# Double check dataset\n",
    "all_df[0]"
   ]
  },
  {
   "cell_type": "code",
   "execution_count": 16,
   "id": "1f011d2e",
   "metadata": {},
   "outputs": [
    {
     "data": {
      "text/html": [
       "<div>\n",
       "<style scoped>\n",
       "    .dataframe tbody tr th:only-of-type {\n",
       "        vertical-align: middle;\n",
       "    }\n",
       "\n",
       "    .dataframe tbody tr th {\n",
       "        vertical-align: top;\n",
       "    }\n",
       "\n",
       "    .dataframe thead th {\n",
       "        text-align: right;\n",
       "    }\n",
       "</style>\n",
       "<table border=\"1\" class=\"dataframe\">\n",
       "  <thead>\n",
       "    <tr style=\"text-align: right;\">\n",
       "      <th></th>\n",
       "      <th>CONTENT</th>\n",
       "      <th>CLASS</th>\n",
       "    </tr>\n",
       "  </thead>\n",
       "  <tbody>\n",
       "    <tr>\n",
       "      <th>0</th>\n",
       "      <td>&lt;a href=\"http://www.youtube.com/watch?v=KQ6zr6...</td>\n",
       "      <td>0</td>\n",
       "    </tr>\n",
       "    <tr>\n",
       "      <th>1</th>\n",
       "      <td>wierd but funny﻿</td>\n",
       "      <td>0</td>\n",
       "    </tr>\n",
       "    <tr>\n",
       "      <th>2</th>\n",
       "      <td>Hey guys, I&amp;#39;m a human.&lt;br /&gt;&lt;br /&gt;&lt;br /&gt;Bu...</td>\n",
       "      <td>1</td>\n",
       "    </tr>\n",
       "    <tr>\n",
       "      <th>3</th>\n",
       "      <td>Party Rock....lol...who wants to shuffle!!!﻿</td>\n",
       "      <td>0</td>\n",
       "    </tr>\n",
       "    <tr>\n",
       "      <th>4</th>\n",
       "      <td>Party rock﻿</td>\n",
       "      <td>0</td>\n",
       "    </tr>\n",
       "    <tr>\n",
       "      <th>...</th>\n",
       "      <td>...</td>\n",
       "      <td>...</td>\n",
       "    </tr>\n",
       "    <tr>\n",
       "      <th>1950</th>\n",
       "      <td>SUBSCRIBE TO MY CHANNEL X PLEASE!. SPARE</td>\n",
       "      <td>1</td>\n",
       "    </tr>\n",
       "    <tr>\n",
       "      <th>1951</th>\n",
       "      <td>Check out my videos guy! :) Hope you guys had ...</td>\n",
       "      <td>1</td>\n",
       "    </tr>\n",
       "    <tr>\n",
       "      <th>1952</th>\n",
       "      <td>3 yrs ago I had a health scare but thankfully ...</td>\n",
       "      <td>1</td>\n",
       "    </tr>\n",
       "    <tr>\n",
       "      <th>1953</th>\n",
       "      <td>Rihanna looks so beautiful with red hair ;)﻿</td>\n",
       "      <td>0</td>\n",
       "    </tr>\n",
       "    <tr>\n",
       "      <th>1954</th>\n",
       "      <td>857.482.940 views AWESOME !!!!!!!!!!!!!!!!!!!!...</td>\n",
       "      <td>0</td>\n",
       "    </tr>\n",
       "  </tbody>\n",
       "</table>\n",
       "<p>1955 rows × 2 columns</p>\n",
       "</div>"
      ],
      "text/plain": [
       "                                                CONTENT  CLASS\n",
       "0     <a href=\"http://www.youtube.com/watch?v=KQ6zr6...      0\n",
       "1                                      wierd but funny﻿      0\n",
       "2     Hey guys, I&#39;m a human.<br /><br /><br />Bu...      1\n",
       "3          Party Rock....lol...who wants to shuffle!!!﻿      0\n",
       "4                                           Party rock﻿      0\n",
       "...                                                 ...    ...\n",
       "1950           SUBSCRIBE TO MY CHANNEL X PLEASE!. SPARE      1\n",
       "1951  Check out my videos guy! :) Hope you guys had ...      1\n",
       "1952  3 yrs ago I had a health scare but thankfully ...      1\n",
       "1953       Rihanna looks so beautiful with red hair ;)﻿      0\n",
       "1954  857.482.940 views AWESOME !!!!!!!!!!!!!!!!!!!!...      0\n",
       "\n",
       "[1955 rows x 2 columns]"
      ]
     },
     "execution_count": 16,
     "metadata": {},
     "output_type": "execute_result"
    }
   ],
   "source": [
    "# Create a new dataframe to contain all the imported datasets\n",
    "data = pd.concat(all_df, axis= 0, ignore_index= True)\n",
    "data"
   ]
  },
  {
   "cell_type": "code",
   "execution_count": 18,
   "id": "bc3989fc",
   "metadata": {},
   "outputs": [
    {
     "data": {
      "text/plain": [
       "CONTENT    0\n",
       "CLASS      0\n",
       "dtype: int64"
      ]
     },
     "execution_count": 18,
     "metadata": {},
     "output_type": "execute_result"
    }
   ],
   "source": [
    "# Check missing value in the new dataframe\n",
    "data.isnull().sum()"
   ]
  },
  {
   "cell_type": "code",
   "execution_count": 20,
   "id": "7b5a7bbc",
   "metadata": {},
   "outputs": [
    {
     "data": {
      "text/plain": [
       "1    1004\n",
       "0     951\n",
       "Name: CLASS, dtype: int64"
      ]
     },
     "execution_count": 20,
     "metadata": {},
     "output_type": "execute_result"
    }
   ],
   "source": [
    "# Count the values in CLASS column\n",
    "data['CLASS'].value_counts()"
   ]
  },
  {
   "cell_type": "markdown",
   "id": "3bbfe36a",
   "metadata": {},
   "source": [
    "### Sample 1"
   ]
  },
  {
   "cell_type": "code",
   "execution_count": 22,
   "id": "8ada70ec",
   "metadata": {},
   "outputs": [
    {
     "data": {
      "text/plain": [
       "array([[1, 1, 1]])"
      ]
     },
     "execution_count": 22,
     "metadata": {},
     "output_type": "execute_result"
    }
   ],
   "source": [
    "message_sample = ['This is a dog']\n",
    "\n",
    "vectorizer_sample = CountVectorizer()\n",
    "vectorizer_sample.fit(message_sample)\n",
    "vectorizer_sample.transform(message_sample).toarray()"
   ]
  },
  {
   "cell_type": "code",
   "execution_count": 23,
   "id": "e35db8bf",
   "metadata": {},
   "outputs": [
    {
     "data": {
      "text/plain": [
       "array(['dog', 'is', 'this'], dtype=object)"
      ]
     },
     "execution_count": 23,
     "metadata": {},
     "output_type": "execute_result"
    }
   ],
   "source": [
    "vectorizer_sample.get_feature_names_out()"
   ]
  },
  {
   "cell_type": "code",
   "execution_count": 24,
   "id": "d4f8232f",
   "metadata": {},
   "outputs": [
    {
     "data": {
      "text/plain": [
       "array([[0, 1, 1]])"
      ]
     },
     "execution_count": 24,
     "metadata": {},
     "output_type": "execute_result"
    }
   ],
   "source": [
    "vectorizer_sample.transform(['This is a cat']).toarray()"
   ]
  },
  {
   "cell_type": "markdown",
   "id": "d04cfde1",
   "metadata": {},
   "source": [
    "### Sample 2"
   ]
  },
  {
   "cell_type": "code",
   "execution_count": 25,
   "id": "0cc38d23",
   "metadata": {},
   "outputs": [
    {
     "data": {
      "text/plain": [
       "array([[1, 0, 2, 2, 1, 1],\n",
       "       [0, 1, 0, 1, 0, 1]])"
      ]
     },
     "execution_count": 25,
     "metadata": {},
     "output_type": "execute_result"
    }
   ],
   "source": [
    "message_sample2 = ['This is a dog and that is a dog', 'This is a cat']\n",
    "vectorizer_sample2 = CountVectorizer()\n",
    "vectorizer_sample2.fit_transform(message_sample2).toarray()"
   ]
  },
  {
   "cell_type": "code",
   "execution_count": 26,
   "id": "836c7a1d",
   "metadata": {},
   "outputs": [
    {
     "data": {
      "text/plain": [
       "array(['and', 'cat', 'dog', 'is', 'that', 'this'], dtype=object)"
      ]
     },
     "execution_count": 26,
     "metadata": {},
     "output_type": "execute_result"
    }
   ],
   "source": [
    "vectorizer_sample2.get_feature_names_out()"
   ]
  },
  {
   "cell_type": "code",
   "execution_count": 27,
   "id": "7c20e64d",
   "metadata": {},
   "outputs": [
    {
     "data": {
      "text/plain": [
       "array([[0, 0, 0, 0, 0, 0]])"
      ]
     },
     "execution_count": 27,
     "metadata": {},
     "output_type": "execute_result"
    }
   ],
   "source": [
    "vectorizer_sample2.transform(['Those are birds.']).toarray()"
   ]
  },
  {
   "cell_type": "markdown",
   "id": "3167043b",
   "metadata": {},
   "source": [
    "### Defining the inputs and the target. Creating the train-test split."
   ]
  },
  {
   "cell_type": "code",
   "execution_count": 30,
   "id": "6e7d4ad1",
   "metadata": {},
   "outputs": [],
   "source": [
    "inputs = data['CONTENT']\n",
    "target = data['CLASS']"
   ]
  },
  {
   "cell_type": "code",
   "execution_count": 31,
   "id": "5bfcd1ea",
   "metadata": {},
   "outputs": [],
   "source": [
    "# Stratify argument is to make sure equal portion of the two classes enter into the training and testing set\n",
    "x_train, x_test, y_train, y_test = train_test_split(inputs, target, test_size= 0.2, random_state= 365, stratify= target)"
   ]
  },
  {
   "cell_type": "code",
   "execution_count": 32,
   "id": "71f87086",
   "metadata": {
    "scrolled": true
   },
   "outputs": [
    {
     "data": {
      "text/plain": [
       "1    0.513427\n",
       "0    0.486573\n",
       "Name: CLASS, dtype: float64"
      ]
     },
     "execution_count": 32,
     "metadata": {},
     "output_type": "execute_result"
    }
   ],
   "source": [
    "y_train.value_counts(normalize= True)"
   ]
  },
  {
   "cell_type": "code",
   "execution_count": 33,
   "id": "3afe150d",
   "metadata": {},
   "outputs": [
    {
     "data": {
      "text/plain": [
       "1    0.514066\n",
       "0    0.485934\n",
       "Name: CLASS, dtype: float64"
      ]
     },
     "execution_count": 33,
     "metadata": {},
     "output_type": "execute_result"
    }
   ],
   "source": [
    "y_test.value_counts(normalize= True)"
   ]
  },
  {
   "cell_type": "markdown",
   "id": "14e8a85e",
   "metadata": {},
   "source": [
    "### Tokenizing the YouTube comments"
   ]
  },
  {
   "cell_type": "code",
   "execution_count": 34,
   "id": "7b8d139d",
   "metadata": {},
   "outputs": [],
   "source": [
    "vectorizer = CountVectorizer()\n",
    "x_train_transf = vectorizer.fit_transform(x_train)\n",
    "x_test_transf = vectorizer.transform(x_test)"
   ]
  },
  {
   "cell_type": "code",
   "execution_count": 35,
   "id": "297e9317",
   "metadata": {},
   "outputs": [
    {
     "data": {
      "text/plain": [
       "array([[0, 0, 0, ..., 0, 0, 0],\n",
       "       [0, 0, 0, ..., 0, 0, 0],\n",
       "       [0, 0, 0, ..., 0, 0, 0],\n",
       "       ...,\n",
       "       [0, 0, 0, ..., 0, 0, 0],\n",
       "       [0, 0, 0, ..., 0, 0, 0],\n",
       "       [0, 0, 0, ..., 0, 0, 0]])"
      ]
     },
     "execution_count": 35,
     "metadata": {},
     "output_type": "execute_result"
    }
   ],
   "source": [
    "x_train_transf.toarray()"
   ]
  },
  {
   "cell_type": "code",
   "execution_count": 37,
   "id": "619d169e",
   "metadata": {},
   "outputs": [
    {
     "data": {
      "text/plain": [
       "(1564, 3903)"
      ]
     },
     "execution_count": 37,
     "metadata": {},
     "output_type": "execute_result"
    }
   ],
   "source": [
    "x_train_transf.shape"
   ]
  },
  {
   "cell_type": "code",
   "execution_count": 39,
   "id": "ce06d390",
   "metadata": {},
   "outputs": [
    {
     "data": {
      "text/plain": [
       "1    803\n",
       "0    761\n",
       "Name: CLASS, dtype: int64"
      ]
     },
     "execution_count": 39,
     "metadata": {},
     "output_type": "execute_result"
    }
   ],
   "source": [
    "y_train.value_counts()"
   ]
  },
  {
   "cell_type": "code",
   "execution_count": 38,
   "id": "b568b208",
   "metadata": {},
   "outputs": [
    {
     "data": {
      "text/plain": [
       "(391, 3903)"
      ]
     },
     "execution_count": 38,
     "metadata": {},
     "output_type": "execute_result"
    }
   ],
   "source": [
    "x_test_transf.shape"
   ]
  },
  {
   "cell_type": "code",
   "execution_count": 40,
   "id": "e65ef9b3",
   "metadata": {},
   "outputs": [
    {
     "data": {
      "text/plain": [
       "1    201\n",
       "0    190\n",
       "Name: CLASS, dtype: int64"
      ]
     },
     "execution_count": 40,
     "metadata": {},
     "output_type": "execute_result"
    }
   ],
   "source": [
    "y_test.value_counts()"
   ]
  },
  {
   "cell_type": "markdown",
   "id": "a11cdb00",
   "metadata": {},
   "source": [
    "### Performing the classification"
   ]
  },
  {
   "cell_type": "code",
   "execution_count": 43,
   "id": "3ce116cd",
   "metadata": {},
   "outputs": [],
   "source": [
    "clf = MultinomialNB()"
   ]
  },
  {
   "cell_type": "code",
   "execution_count": 45,
   "id": "4f6bd4a7",
   "metadata": {},
   "outputs": [
    {
     "data": {
      "text/html": [
       "<style>#sk-container-id-3 {color: black;background-color: white;}#sk-container-id-3 pre{padding: 0;}#sk-container-id-3 div.sk-toggleable {background-color: white;}#sk-container-id-3 label.sk-toggleable__label {cursor: pointer;display: block;width: 100%;margin-bottom: 0;padding: 0.3em;box-sizing: border-box;text-align: center;}#sk-container-id-3 label.sk-toggleable__label-arrow:before {content: \"▸\";float: left;margin-right: 0.25em;color: #696969;}#sk-container-id-3 label.sk-toggleable__label-arrow:hover:before {color: black;}#sk-container-id-3 div.sk-estimator:hover label.sk-toggleable__label-arrow:before {color: black;}#sk-container-id-3 div.sk-toggleable__content {max-height: 0;max-width: 0;overflow: hidden;text-align: left;background-color: #f0f8ff;}#sk-container-id-3 div.sk-toggleable__content pre {margin: 0.2em;color: black;border-radius: 0.25em;background-color: #f0f8ff;}#sk-container-id-3 input.sk-toggleable__control:checked~div.sk-toggleable__content {max-height: 200px;max-width: 100%;overflow: auto;}#sk-container-id-3 input.sk-toggleable__control:checked~label.sk-toggleable__label-arrow:before {content: \"▾\";}#sk-container-id-3 div.sk-estimator input.sk-toggleable__control:checked~label.sk-toggleable__label {background-color: #d4ebff;}#sk-container-id-3 div.sk-label input.sk-toggleable__control:checked~label.sk-toggleable__label {background-color: #d4ebff;}#sk-container-id-3 input.sk-hidden--visually {border: 0;clip: rect(1px 1px 1px 1px);clip: rect(1px, 1px, 1px, 1px);height: 1px;margin: -1px;overflow: hidden;padding: 0;position: absolute;width: 1px;}#sk-container-id-3 div.sk-estimator {font-family: monospace;background-color: #f0f8ff;border: 1px dotted black;border-radius: 0.25em;box-sizing: border-box;margin-bottom: 0.5em;}#sk-container-id-3 div.sk-estimator:hover {background-color: #d4ebff;}#sk-container-id-3 div.sk-parallel-item::after {content: \"\";width: 100%;border-bottom: 1px solid gray;flex-grow: 1;}#sk-container-id-3 div.sk-label:hover label.sk-toggleable__label {background-color: #d4ebff;}#sk-container-id-3 div.sk-serial::before {content: \"\";position: absolute;border-left: 1px solid gray;box-sizing: border-box;top: 0;bottom: 0;left: 50%;z-index: 0;}#sk-container-id-3 div.sk-serial {display: flex;flex-direction: column;align-items: center;background-color: white;padding-right: 0.2em;padding-left: 0.2em;position: relative;}#sk-container-id-3 div.sk-item {position: relative;z-index: 1;}#sk-container-id-3 div.sk-parallel {display: flex;align-items: stretch;justify-content: center;background-color: white;position: relative;}#sk-container-id-3 div.sk-item::before, #sk-container-id-3 div.sk-parallel-item::before {content: \"\";position: absolute;border-left: 1px solid gray;box-sizing: border-box;top: 0;bottom: 0;left: 50%;z-index: -1;}#sk-container-id-3 div.sk-parallel-item {display: flex;flex-direction: column;z-index: 1;position: relative;background-color: white;}#sk-container-id-3 div.sk-parallel-item:first-child::after {align-self: flex-end;width: 50%;}#sk-container-id-3 div.sk-parallel-item:last-child::after {align-self: flex-start;width: 50%;}#sk-container-id-3 div.sk-parallel-item:only-child::after {width: 0;}#sk-container-id-3 div.sk-dashed-wrapped {border: 1px dashed gray;margin: 0 0.4em 0.5em 0.4em;box-sizing: border-box;padding-bottom: 0.4em;background-color: white;}#sk-container-id-3 div.sk-label label {font-family: monospace;font-weight: bold;display: inline-block;line-height: 1.2em;}#sk-container-id-3 div.sk-label-container {text-align: center;}#sk-container-id-3 div.sk-container {/* jupyter's `normalize.less` sets `[hidden] { display: none; }` but bootstrap.min.css set `[hidden] { display: none !important; }` so we also need the `!important` here to be able to override the default hidden behavior on the sphinx rendered scikit-learn.org. See: https://github.com/scikit-learn/scikit-learn/issues/21755 */display: inline-block !important;position: relative;}#sk-container-id-3 div.sk-text-repr-fallback {display: none;}</style><div id=\"sk-container-id-3\" class=\"sk-top-container\"><div class=\"sk-text-repr-fallback\"><pre>MultinomialNB()</pre><b>In a Jupyter environment, please rerun this cell to show the HTML representation or trust the notebook. <br />On GitHub, the HTML representation is unable to render, please try loading this page with nbviewer.org.</b></div><div class=\"sk-container\" hidden><div class=\"sk-item\"><div class=\"sk-estimator sk-toggleable\"><input class=\"sk-toggleable__control sk-hidden--visually\" id=\"sk-estimator-id-3\" type=\"checkbox\" checked><label for=\"sk-estimator-id-3\" class=\"sk-toggleable__label sk-toggleable__label-arrow\">MultinomialNB</label><div class=\"sk-toggleable__content\"><pre>MultinomialNB()</pre></div></div></div></div></div>"
      ],
      "text/plain": [
       "MultinomialNB()"
      ]
     },
     "execution_count": 45,
     "metadata": {},
     "output_type": "execute_result"
    }
   ],
   "source": [
    "clf.fit(x_train_transf, y_train)"
   ]
  },
  {
   "cell_type": "code",
   "execution_count": 46,
   "id": "11fd67d2",
   "metadata": {},
   "outputs": [
    {
     "data": {
      "text/plain": [
       "{'alpha': 1.0, 'class_prior': None, 'fit_prior': True}"
      ]
     },
     "execution_count": 46,
     "metadata": {},
     "output_type": "execute_result"
    }
   ],
   "source": [
    "# Return the parameters of the classifier\n",
    "clf.get_params()"
   ]
  },
  {
   "cell_type": "markdown",
   "id": "0b0d523f",
   "metadata": {},
   "source": [
    "### Performing the evaluation on the test dataset"
   ]
  },
  {
   "cell_type": "code",
   "execution_count": 48,
   "id": "47a3d7bf",
   "metadata": {},
   "outputs": [],
   "source": [
    "y_test_pred = clf.predict(x_test_transf)"
   ]
  },
  {
   "cell_type": "code",
   "execution_count": 50,
   "id": "344760ab",
   "metadata": {},
   "outputs": [
    {
     "data": {
      "text/plain": [
       "<sklearn.metrics._plot.confusion_matrix.ConfusionMatrixDisplay at 0x16d263f70>"
      ]
     },
     "execution_count": 50,
     "metadata": {},
     "output_type": "execute_result"
    },
    {
     "data": {
      "image/png": "[encoded data removed]",
      "text/plain": [
       "<Figure size 432x288 with 2 Axes>"
      ]
     },
     "metadata": {
      "needs_background": "light"
     },
     "output_type": "display_data"
    }
   ],
   "source": [
    "ConfusionMatrixDisplay.from_predictions(y_test, y_test_pred, labels= clf.classes_, cmap= 'magma')"
   ]
  },
  {
   "cell_type": "code",
   "execution_count": 53,
   "id": "25db1187",
   "metadata": {},
   "outputs": [
    {
     "name": "stdout",
     "output_type": "stream",
     "text": [
      "              precision    recall  f1-score   support\n",
      "\n",
      "         Ham       0.93      0.88      0.90       190\n",
      "        Spam       0.89      0.94      0.91       201\n",
      "\n",
      "    accuracy                           0.91       391\n",
      "   macro avg       0.91      0.91      0.91       391\n",
      "weighted avg       0.91      0.91      0.91       391\n",
      "\n"
     ]
    }
   ],
   "source": [
    "print(classification_report(y_test, y_test_pred, target_names= ['Ham', 'Spam']))"
   ]
  },
  {
   "cell_type": "markdown",
   "id": "3d6fb120",
   "metadata": {},
   "source": [
    "### Making predictions using new sample content"
   ]
  },
  {
   "cell_type": "code",
   "execution_count": 55,
   "id": "7d261220",
   "metadata": {},
   "outputs": [],
   "source": [
    "new_sample_transf = vectorizer.transform(['This is a great house', 'You can earn a lot of money, just follow the steps below'])\n"
   ]
  },
  {
   "cell_type": "code",
   "execution_count": 56,
   "id": "861be544",
   "metadata": {},
   "outputs": [
    {
     "data": {
      "text/plain": [
       "array([0, 1])"
      ]
     },
     "execution_count": 56,
     "metadata": {},
     "output_type": "execute_result"
    }
   ],
   "source": [
    "clf.predict(new_sample_transf)"
   ]
  }
 ],
 "metadata": {
  "kernelspec": {
   "display_name": "Python 3.10.5 ('machine_learning')",
   "language": "python",
   "name": "python3"
  },
  "language_info": {
   "codemirror_mode": {
    "name": "ipython",
    "version": 3
   },
   "file_extension": ".py",
   "mimetype": "text/x-python",
   "name": "python",
   "nbconvert_exporter": "python",
   "pygments_lexer": "ipython3",
   "version": "3.10.5"
  },
  "vscode": {
   "interpreter": {
    "hash": "baf356b61104cf11758295bc1abbe1bfefc0d250142895d2c924bd7b7f565409"
   }
  }
 },
 "nbformat": 4,
 "nbformat_minor": 5
}
